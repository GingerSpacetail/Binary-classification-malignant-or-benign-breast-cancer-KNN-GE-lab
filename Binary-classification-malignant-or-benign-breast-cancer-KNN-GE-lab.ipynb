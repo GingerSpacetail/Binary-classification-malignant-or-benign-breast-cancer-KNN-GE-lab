{
 "cells": [
  {
   "cell_type": "markdown",
   "metadata": {
    "colab_type": "text",
    "id": "2aES7Y15Wvsv"
   },
   "source": [
    "# -=-=-=-=-=-=-=K-Nearest Neighbor-=-=-=-=-=-=-"
   ]
  },
  {
   "cell_type": "code",
   "execution_count": null,
   "metadata": {
    "colab": {
     "base_uri": "https://localhost:8080/",
     "height": 121
    },
    "colab_type": "code",
    "executionInfo": {
     "elapsed": 18542,
     "status": "ok",
     "timestamp": 1592566511854,
     "user": {
      "displayName": "farzad hatami",
      "photoUrl": "",
      "userId": "06180331196824479300"
     },
     "user_tz": -120
    },
    "id": "WGJVUEdOW_sh",
    "outputId": "c152be8c-88b4-44ac-8dc0-5351d657255e"
   },
   "outputs": [],
   "source": [
    "# Mounting your Google Drive to your Colab.\n",
    "from google.colab import drive\n",
    "drive.mount('/content/drive')"
   ]
  },
  {
   "cell_type": "markdown",
   "metadata": {
    "colab_type": "text",
    "id": "IqjXXKT1Wvsw"
   },
   "source": [
    "### KNN is one the simplest learning algorithm that does not apply any assumption on the data. It  measures the distance between the datapoints "
   ]
  },
  {
   "cell_type": "code",
   "execution_count": null,
   "metadata": {
    "colab": {
     "base_uri": "https://localhost:8080/",
     "height": 70
    },
    "colab_type": "code",
    "executionInfo": {
     "elapsed": 1973,
     "status": "ok",
     "timestamp": 1592566519976,
     "user": {
      "displayName": "farzad hatami",
      "photoUrl": "",
      "userId": "06180331196824479300"
     },
     "user_tz": -120
    },
    "id": "Oo5tngT1Wvsx",
    "outputId": "0a3b74a2-3097-4a9a-8719-d77f34371f38"
   },
   "outputs": [],
   "source": [
    "# Importing the required libraries.\n",
    "import numpy as np\n",
    "import pandas as pd\n",
    "from matplotlib import pyplot as plt\n",
    "from sklearn.datasets import load_breast_cancer\n",
    "from sklearn import metrics\n",
    "from sklearn.neighbors import KNeighborsClassifier\n",
    "from sklearn.model_selection import train_test_split\n",
    "import seaborn as sns\n",
    "sns.set()"
   ]
  },
  {
   "cell_type": "markdown",
   "metadata": {
    "colab_type": "text",
    "id": "eZ8gxIJTWvs0"
   },
   "source": [
    "## Binary Classification"
   ]
  },
  {
   "cell_type": "markdown",
   "metadata": {
    "colab_type": "text",
    "id": "z2USgkkZWvs0"
   },
   "source": [
    "### We start with a simple example of two class classification problem. The dataset contains 569 subjects from each 30 features were extracted and labeled as 1 or 0 to present the malignant or benign breast cancer."
   ]
  },
  {
   "cell_type": "code",
   "execution_count": null,
   "metadata": {
    "colab": {},
    "colab_type": "code",
    "executionInfo": {
     "elapsed": 1574,
     "status": "ok",
     "timestamp": 1592566536237,
     "user": {
      "displayName": "farzad hatami",
      "photoUrl": "",
      "userId": "06180331196824479300"
     },
     "user_tz": -120
    },
    "id": "uJgB8XPlWvs1"
   },
   "outputs": [],
   "source": [
    "# Loading the data (features and labels)\n",
    "cancer_breast = load_breast_cancer()\n",
    "x = pd.DataFrame(cancer_breast.data, columns = cancer_breast.feature_names)\n",
    "x = x[['mean area', 'mean compactness']]\n",
    "y = pd.Categorical.from_codes(cancer_breast.target, cancer_breast.target_names)\n",
    "y = pd.get_dummies(y, drop_first=True)"
   ]
  },
  {
   "cell_type": "markdown",
   "metadata": {
    "colab_type": "text",
    "id": "cwfTd_pLWvs3"
   },
   "source": [
    "### The model should be learned with training data, then, the performance of the learned model should be evaluated over the unseen test data."
   ]
  },
  {
   "cell_type": "code",
   "execution_count": null,
   "metadata": {
    "colab": {},
    "colab_type": "code",
    "executionInfo": {
     "elapsed": 986,
     "status": "ok",
     "timestamp": 1592566540870,
     "user": {
      "displayName": "farzad hatami",
      "photoUrl": "",
      "userId": "06180331196824479300"
     },
     "user_tz": -120
    },
    "id": "xCE6caP8Wvs4"
   },
   "outputs": [],
   "source": [
    "# Splitting 25% of the data into train and the rest to the test sets.\n",
    "x_train, x_test, y_train, y_test = train_test_split(x, y, random_state=1)"
   ]
  },
  {
   "cell_type": "code",
   "execution_count": null,
   "metadata": {
    "colab": {
     "base_uri": "https://localhost:8080/",
     "height": 121
    },
    "colab_type": "code",
    "executionInfo": {
     "elapsed": 1325,
     "status": "ok",
     "timestamp": 1592566544593,
     "user": {
      "displayName": "farzad hatami",
      "photoUrl": "",
      "userId": "06180331196824479300"
     },
     "user_tz": -120
    },
    "id": "MLoVXI0_Wvs6",
    "outputId": "c270847a-a7bb-4ca7-bde3-bb72e23e75c3"
   },
   "outputs": [],
   "source": [
    "# Compiling the KNN model \n",
    "n_neighbor = 3\n",
    "knn = KNeighborsClassifier(n_neighbors = n_neighbor, metric='euclidean')\n",
    "# Training the complied model with training data\n",
    "knn.fit(x_train, y_train)"
   ]
  },
  {
   "cell_type": "code",
   "execution_count": null,
   "metadata": {
    "colab": {
     "base_uri": "https://localhost:8080/",
     "height": 34
    },
    "colab_type": "code",
    "executionInfo": {
     "elapsed": 777,
     "status": "ok",
     "timestamp": 1592566548107,
     "user": {
      "displayName": "farzad hatami",
      "photoUrl": "",
      "userId": "06180331196824479300"
     },
     "user_tz": -120
    },
    "id": "mh7AmSQiWvs9",
    "outputId": "0768cc0f-1d70-4e84-831f-c6f4ff62cfe1"
   },
   "outputs": [],
   "source": [
    "# Predicting the unseen data and quantify the model performance:\n",
    "y_pred = knn.predict(x_test)\n",
    "print('Prediction Accuracy Score is:',metrics.accuracy_score(y_test,y_pred))"
   ]
  },
  {
   "cell_type": "markdown",
   "metadata": {
    "colab_type": "text",
    "id": "SLULd787Wvs_"
   },
   "source": [
    "### Visualization of the KNN Performance:\n",
    "The dimension of the employed data set is 30. Therefore, for simplicity, we use only two features to visualize a 2D scatterplot of the datapoints compared against the predicted ones."
   ]
  },
  {
   "cell_type": "code",
   "execution_count": null,
   "metadata": {
    "colab": {
     "base_uri": "https://localhost:8080/",
     "height": 302
    },
    "colab_type": "code",
    "executionInfo": {
     "elapsed": 1472,
     "status": "ok",
     "timestamp": 1592566552491,
     "user": {
      "displayName": "farzad hatami",
      "photoUrl": "",
      "userId": "06180331196824479300"
     },
     "user_tz": -120
    },
    "id": "G9CSDemzWvtA",
    "outputId": "773eedb6-7102-4731-fc1e-bd87cd940d2b"
   },
   "outputs": [],
   "source": [
    "# Scatter plot of the prediction\n",
    "sns.scatterplot(\n",
    "    x='mean area',\n",
    "    y='mean compactness',\n",
    "    hue='benign',\n",
    "    data=x_test.join(y_test, how='outer'))"
   ]
  },
  {
   "cell_type": "code",
   "execution_count": null,
   "metadata": {
    "colab": {
     "base_uri": "https://localhost:8080/",
     "height": 285
    },
    "colab_type": "code",
    "executionInfo": {
     "elapsed": 1006,
     "status": "ok",
     "timestamp": 1592566555756,
     "user": {
      "displayName": "farzad hatami",
      "photoUrl": "",
      "userId": "06180331196824479300"
     },
     "user_tz": -120
    },
    "id": "woSEQydTWvtC",
    "outputId": "bb08cc85-cec1-40dd-a79b-9f53a38f7c82"
   },
   "outputs": [],
   "source": [
    "# Scatter plot of the real data\n",
    "plt.scatter(\n",
    "    x_test['mean area'],\n",
    "    x_test['mean compactness'],\n",
    "    c=y_pred,\n",
    "    cmap='coolwarm',\n",
    "    alpha=0.7)"
   ]
  },
  {
   "cell_type": "markdown",
   "metadata": {
    "colab_type": "text",
    "id": "CwrqTm7dWvtH"
   },
   "source": [
    "### Changing the value of nearest neighbors and find out its effect!\n",
    "To better understand how the value of nearest neighbor (K) affect the performance and generalization power\n",
    "of the KNN model, we are going to train different KNN models with different K values.\n"
   ]
  },
  {
   "cell_type": "code",
   "execution_count": null,
   "metadata": {
    "colab": {
     "base_uri": "https://localhost:8080/",
     "height": 440
    },
    "colab_type": "code",
    "executionInfo": {
     "elapsed": 850,
     "status": "ok",
     "timestamp": 1592566561448,
     "user": {
      "displayName": "farzad hatami",
      "photoUrl": "",
      "userId": "06180331196824479300"
     },
     "user_tz": -120
    },
    "id": "P54wUB_aWvtH",
    "outputId": "c3f5559d-d853-45cd-ae08-81742188bf51"
   },
   "outputs": [],
   "source": [
    "k_val = [1,3,5,7,9,11,15,17]\n",
    "\n",
    "for k in k_val:\n",
    "    knn = KNeighborsClassifier(n_neighbors = k, metric='euclidean')\n",
    "    knn.fit(x_train, y_train)\n",
    "    y_pred = knn.predict(x_test)\n",
    "    performance = metrics.accuracy_score(y_test,y_pred)\n",
    "    print('Prediction performance of KNN with K of {} is {}'.format(k, performance))"
   ]
  },
  {
   "cell_type": "markdown",
   "metadata": {
    "colab_type": "text",
    "id": "h104heToWvtJ"
   },
   "source": [
    "### Another Example:\n",
    "We are going to use a real clinical data set (Data1.csv). This data set contain 216 subjects each of which presented with 100 quantified values (clinical Proteomics). Out of all the subjects, 121 are diagnosed as ovarian cancer and 95 are healthy subjects. Therefore, it is binary classification and the class labels are set as -1 and +1."
   ]
  },
  {
   "cell_type": "code",
   "execution_count": null,
   "metadata": {
    "colab": {},
    "colab_type": "code",
    "executionInfo": {
     "elapsed": 1758,
     "status": "ok",
     "timestamp": 1592566601996,
     "user": {
      "displayName": "farzad hatami",
      "photoUrl": "",
      "userId": "06180331196824479300"
     },
     "user_tz": -120
    },
    "id": "teFmfuP1WvtK"
   },
   "outputs": [],
   "source": [
    "data = pd.read_csv('/content/drive/My Drive/Data/Data1.csv', header=None) # Input data"
   ]
  },
  {
   "cell_type": "code",
   "execution_count": null,
   "metadata": {
    "colab": {},
    "colab_type": "code",
    "executionInfo": {
     "elapsed": 834,
     "status": "ok",
     "timestamp": 1592566605024,
     "user": {
      "displayName": "farzad hatami",
      "photoUrl": "",
      "userId": "06180331196824479300"
     },
     "user_tz": -120
    },
    "id": "djYlupExWvtM"
   },
   "outputs": [],
   "source": [
    "# Set the first 100 columns as input data\n",
    "x_ovarian = data.values[:, :100]\n",
    "\n",
    "# Set the last column as targets\n",
    "y_ovarian = data.values[:, 100]\n",
    "\n",
    "# spliting the data into train and test sets randomly.\n",
    "x_tr_ovar, x_test_ovar, y_tr_ovar, y_test_ovar = train_test_split(x_ovarian, y_ovarian, test_size = 0.2, random_state = 1)"
   ]
  },
  {
   "cell_type": "code",
   "execution_count": null,
   "metadata": {
    "colab": {
     "base_uri": "https://localhost:8080/",
     "height": 151
    },
    "colab_type": "code",
    "executionInfo": {
     "elapsed": 848,
     "status": "ok",
     "timestamp": 1592566608417,
     "user": {
      "displayName": "farzad hatami",
      "photoUrl": "",
      "userId": "06180331196824479300"
     },
     "user_tz": -120
    },
    "id": "qcElRkuqWvtO",
    "outputId": "ca241ed3-c2c6-4f57-86a0-9ac5b48143d4"
   },
   "outputs": [],
   "source": [
    "k_val = [1,3,5,7,9,11,15,17]\n",
    "for k in k_val:\n",
    "    knn = KNeighborsClassifier(n_neighbors = k, metric='euclidean')\n",
    "    knn.fit(x_tr_ovar, y_tr_ovar)\n",
    "    y_pred_over = knn.predict(x_test_ovar)\n",
    "    performance = metrics.accuracy_score(y_test_ovar, y_pred_over)\n",
    "    print('Prediction performance of KNN with K of {} is {}'.format(k, performance))"
   ]
  },
  {
   "cell_type": "code",
   "execution_count": null,
   "metadata": {
    "colab": {},
    "colab_type": "code",
    "id": "Yk_JFFFZWvtQ"
   },
   "outputs": [],
   "source": [
    "# TODO: How do you interprete the effect of K on the model performance?"
   ]
  }
 ],
 "metadata": {
  "colab": {
   "collapsed_sections": [],
   "name": "Copy of KNN.ipynb",
   "provenance": [
    {
     "file_id": "1pNCbeDZ3kNKLjzy9Bj_-ziHw7NjxwxF4",
     "timestamp": 1592566629263
    }
   ]
  },
  "kernelspec": {
   "display_name": "Python 3",
   "language": "python",
   "name": "python3"
  },
  "language_info": {
   "codemirror_mode": {
    "name": "ipython",
    "version": 3
   },
   "file_extension": ".py",
   "mimetype": "text/x-python",
   "name": "python",
   "nbconvert_exporter": "python",
   "pygments_lexer": "ipython3",
   "version": "3.7.6"
  }
 },
 "nbformat": 4,
 "nbformat_minor": 1
}
