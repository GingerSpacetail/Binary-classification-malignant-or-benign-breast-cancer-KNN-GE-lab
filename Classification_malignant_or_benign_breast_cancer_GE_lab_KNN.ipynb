{
  "nbformat": 4,
  "nbformat_minor": 0,
  "metadata": {
    "colab": {
      "name": "Classification malignant or benign breast cancer - GE lab - KNN.ipynb",
      "provenance": [],
      "collapsed_sections": [],
      "toc_visible": true,
      "include_colab_link": true
    },
    "kernelspec": {
      "display_name": "Python 3",
      "language": "python",
      "name": "python3"
    },
    "language_info": {
      "codemirror_mode": {
        "name": "ipython",
        "version": 3
      },
      "file_extension": ".py",
      "mimetype": "text/x-python",
      "name": "python",
      "nbconvert_exporter": "python",
      "pygments_lexer": "ipython3",
      "version": "3.7.6"
    }
  },
  "cells": [
    {
      "cell_type": "markdown",
      "metadata": {
        "id": "view-in-github",
        "colab_type": "text"
      },
      "source": [
        "<a href=\"https://colab.research.google.com/github/GingerSpacetail/Binary-classification-malignant-or-benign-breast-cancer-KNN-GE-lab/blob/main/Classification_malignant_or_benign_breast_cancer_GE_lab_KNN.ipynb\" target=\"_parent\"><img src=\"https://colab.research.google.com/assets/colab-badge.svg\" alt=\"Open In Colab\"/></a>"
      ]
    },
    {
      "cell_type": "markdown",
      "metadata": {
        "id": "2aES7Y15Wvsv"
      },
      "source": [
        "# -=-=-=-=-=-=-=K-Nearest Neighbor-=-=-=-=-=-=-"
      ]
    },
    {
      "cell_type": "code",
      "metadata": {
        "id": "WGJVUEdOW_sh",
        "colab": {
          "base_uri": "https://localhost:8080/"
        },
        "outputId": "1437f812-ba8f-4a1e-ac05-6431e239a3c7"
      },
      "source": [
        "# Mounting data source in Google Drive to Colab.\n",
        "from google.colab import drive\n",
        "drive.mount('/content/drive')"
      ],
      "execution_count": null,
      "outputs": [
        {
          "output_type": "stream",
          "name": "stdout",
          "text": [
            "Mounted at /content/drive\n"
          ]
        }
      ]
    },
    {
      "cell_type": "markdown",
      "metadata": {
        "id": "IqjXXKT1Wvsw"
      },
      "source": [
        "### KNN is one the simplest learning algorithm that does not apply any assumption on the data. It  measures the distance between the datapoints "
      ]
    },
    {
      "cell_type": "markdown",
      "metadata": {
        "id": "6ajo99h6lxID"
      },
      "source": [
        "# New Section"
      ]
    },
    {
      "cell_type": "code",
      "metadata": {
        "id": "Oo5tngT1Wvsx"
      },
      "source": [
        "# Importing the required libraries.\n",
        "import numpy as np\n",
        "import pandas as pd\n",
        "from matplotlib import pyplot as plt\n",
        "from sklearn.datasets import load_breast_cancer\n",
        "from sklearn import metrics\n",
        "from sklearn.neighbors import KNeighborsClassifier\n",
        "from sklearn.model_selection import train_test_split\n",
        "import seaborn as sns\n",
        "sns.set()"
      ],
      "execution_count": null,
      "outputs": []
    },
    {
      "cell_type": "markdown",
      "metadata": {
        "id": "eZ8gxIJTWvs0"
      },
      "source": [
        "## Binary Classification"
      ]
    },
    {
      "cell_type": "markdown",
      "metadata": {
        "id": "z2USgkkZWvs0"
      },
      "source": [
        "### We start with a simple example of two class classification problem. The dataset contains 569 subjects from each 30 features were extracted and labeled as 1 or 0 to present the malignant or benign breast cancer."
      ]
    },
    {
      "cell_type": "code",
      "metadata": {
        "id": "uJgB8XPlWvs1"
      },
      "source": [
        "# Loading the data (features and labels)\n",
        "cancer_breast = load_breast_cancer()\n",
        "x = pd.DataFrame(cancer_breast.data, columns = cancer_breast.feature_names)\n",
        "x = x[['mean area', 'mean compactness']]\n",
        "y = pd.Categorical.from_codes(cancer_breast.target, cancer_breast.target_names)\n",
        "y = pd.get_dummies(y, drop_first=True)"
      ],
      "execution_count": null,
      "outputs": []
    },
    {
      "cell_type": "markdown",
      "metadata": {
        "id": "cwfTd_pLWvs3"
      },
      "source": [
        "### The model should be learned with training data, then, the performance of the learned model should be evaluated over the unseen test data."
      ]
    },
    {
      "cell_type": "code",
      "metadata": {
        "id": "xCE6caP8Wvs4"
      },
      "source": [
        "# Splitting 25% of the data into train and the rest to the test sets.\n",
        "x_train, x_test, y_train, y_test = train_test_split(x, y, random_state=1)"
      ],
      "execution_count": null,
      "outputs": []
    },
    {
      "cell_type": "code",
      "metadata": {
        "id": "MLoVXI0_Wvs6",
        "colab": {
          "base_uri": "https://localhost:8080/"
        },
        "outputId": "0973ee77-0bdf-4ca2-b60a-42ff215715be"
      },
      "source": [
        "# Compiling the KNN model \n",
        "n_neighbor = 3\n",
        "knn = KNeighborsClassifier(n_neighbors = n_neighbor, metric='euclidean')\n",
        "# Training the complied model with training data\n",
        "knn.fit(x_train, y_train)"
      ],
      "execution_count": null,
      "outputs": [
        {
          "output_type": "stream",
          "name": "stderr",
          "text": [
            "/usr/local/lib/python3.7/dist-packages/ipykernel_launcher.py:5: DataConversionWarning: A column-vector y was passed when a 1d array was expected. Please change the shape of y to (n_samples, ), for example using ravel().\n",
            "  \"\"\"\n"
          ]
        },
        {
          "output_type": "execute_result",
          "data": {
            "text/plain": [
              "KNeighborsClassifier(algorithm='auto', leaf_size=30, metric='euclidean',\n",
              "                     metric_params=None, n_jobs=None, n_neighbors=3, p=2,\n",
              "                     weights='uniform')"
            ]
          },
          "metadata": {},
          "execution_count": 5
        }
      ]
    },
    {
      "cell_type": "code",
      "metadata": {
        "id": "mh7AmSQiWvs9",
        "colab": {
          "base_uri": "https://localhost:8080/"
        },
        "outputId": "ac39882d-c7e7-4a68-8a65-1f2ac2bfcd6f"
      },
      "source": [
        "# Predicting the unseen data and quantify the model performance:\n",
        "y_pred = knn.predict(x_test)\n",
        "print('Prediction Accuracy Score is:',metrics.accuracy_score(y_test,y_pred))"
      ],
      "execution_count": null,
      "outputs": [
        {
          "output_type": "stream",
          "name": "stdout",
          "text": [
            "Prediction Accuracy Score is: 0.8321678321678322\n"
          ]
        }
      ]
    },
    {
      "cell_type": "markdown",
      "metadata": {
        "id": "SLULd787Wvs_"
      },
      "source": [
        "### Visualization of the KNN Performance:\n",
        "The dimension of the employed data set is 30. Therefore, for simplicity, we use only two features to visualize a 2D scatterplot of the datapoints compared against the predicted ones."
      ]
    },
    {
      "cell_type": "code",
      "metadata": {
        "id": "G9CSDemzWvtA",
        "colab": {
          "base_uri": "https://localhost:8080/",
          "height": 304
        },
        "outputId": "dd88c3bd-7450-488a-c099-8a69e5df682e"
      },
      "source": [
        "# Scatter plot of the prediction\n",
        "sns.scatterplot(\n",
        "    x='mean area',\n",
        "    y='mean compactness',\n",
        "    hue='benign',\n",
        "    data=x_test.join(y_test, how='outer'))"
      ],
      "execution_count": null,
      "outputs": [
        {
          "output_type": "execute_result",
          "data": {
            "text/plain": [
              "<matplotlib.axes._subplots.AxesSubplot at 0x7f7125594dd0>"
            ]
          },
          "metadata": {},
          "execution_count": 7
        },
        {
          "output_type": "display_data",
          "data": {
            "image/png": "[encoded data removed]",
            "text/plain": [
              "<Figure size 432x288 with 1 Axes>"
            ]
          },
          "metadata": {}
        }
      ]
    },
    {
      "cell_type": "code",
      "metadata": {
        "id": "woSEQydTWvtC",
        "colab": {
          "base_uri": "https://localhost:8080/",
          "height": 287
        },
        "outputId": "32422d5c-7729-47d4-ec6c-4e7540fb1580"
      },
      "source": [
        "# Scatter plot of the real data\n",
        "plt.scatter(\n",
        "    x_test['mean area'],\n",
        "    x_test['mean compactness'],\n",
        "    c=y_pred,\n",
        "    cmap='coolwarm',\n",
        "    alpha=0.7)"
      ],
      "execution_count": null,
      "outputs": [
        {
          "output_type": "execute_result",
          "data": {
            "text/plain": [
              "<matplotlib.collections.PathCollection at 0x7f71243dda90>"
            ]
          },
          "metadata": {},
          "execution_count": 8
        },
        {
          "output_type": "display_data",
          "data": {
            "image/png": "[encoded data removed]",
            "text/plain": [
              "<Figure size 432x288 with 1 Axes>"
            ]
          },
          "metadata": {}
        }
      ]
    },
    {
      "cell_type": "markdown",
      "metadata": {
        "id": "CwrqTm7dWvtH"
      },
      "source": [
        "### Changing the value of nearest neighbors and find out its effect!\n",
        "To better understand how the value of nearest neighbor (K) affect the performance and generalization power\n",
        "of the KNN model, we are going to train different KNN models with different K values.\n"
      ]
    },
    {
      "cell_type": "code",
      "metadata": {
        "id": "P54wUB_aWvtH",
        "colab": {
          "base_uri": "https://localhost:8080/"
        },
        "outputId": "77afc6f2-88e7-4759-eedf-ad45040605b1"
      },
      "source": [
        "k_val = [1,3,5,7,9,11,15,17]\n",
        "\n",
        "for k in k_val:\n",
        "    knn = KNeighborsClassifier(n_neighbors = k, metric='euclidean')\n",
        "    knn.fit(x_train, y_train)\n",
        "    y_pred = knn.predict(x_test)\n",
        "    performance = metrics.accuracy_score(y_test,y_pred)\n",
        "    print('Prediction performance of KNN with K of {} is {}'.format(k, performance))"
      ],
      "execution_count": null,
      "outputs": [
        {
          "output_type": "stream",
          "name": "stdout",
          "text": [
            "Prediction performance of KNN with K of 1 is 0.7902097902097902\n",
            "Prediction performance of KNN with K of 3 is 0.8321678321678322\n",
            "Prediction performance of KNN with K of 5 is 0.8461538461538461\n",
            "Prediction performance of KNN with K of 7 is 0.8461538461538461\n",
            "Prediction performance of KNN with K of 9 is 0.8531468531468531\n",
            "Prediction performance of KNN with K of 11 is 0.8601398601398601\n",
            "Prediction performance of KNN with K of 15 is 0.8601398601398601\n",
            "Prediction performance of KNN with K of 17 is 0.8741258741258742\n"
          ]
        },
        {
          "output_type": "stream",
          "name": "stderr",
          "text": [
            "/usr/local/lib/python3.7/dist-packages/ipykernel_launcher.py:5: DataConversionWarning: A column-vector y was passed when a 1d array was expected. Please change the shape of y to (n_samples, ), for example using ravel().\n",
            "  \"\"\"\n",
            "/usr/local/lib/python3.7/dist-packages/ipykernel_launcher.py:5: DataConversionWarning: A column-vector y was passed when a 1d array was expected. Please change the shape of y to (n_samples, ), for example using ravel().\n",
            "  \"\"\"\n",
            "/usr/local/lib/python3.7/dist-packages/ipykernel_launcher.py:5: DataConversionWarning: A column-vector y was passed when a 1d array was expected. Please change the shape of y to (n_samples, ), for example using ravel().\n",
            "  \"\"\"\n",
            "/usr/local/lib/python3.7/dist-packages/ipykernel_launcher.py:5: DataConversionWarning: A column-vector y was passed when a 1d array was expected. Please change the shape of y to (n_samples, ), for example using ravel().\n",
            "  \"\"\"\n",
            "/usr/local/lib/python3.7/dist-packages/ipykernel_launcher.py:5: DataConversionWarning: A column-vector y was passed when a 1d array was expected. Please change the shape of y to (n_samples, ), for example using ravel().\n",
            "  \"\"\"\n",
            "/usr/local/lib/python3.7/dist-packages/ipykernel_launcher.py:5: DataConversionWarning: A column-vector y was passed when a 1d array was expected. Please change the shape of y to (n_samples, ), for example using ravel().\n",
            "  \"\"\"\n",
            "/usr/local/lib/python3.7/dist-packages/ipykernel_launcher.py:5: DataConversionWarning: A column-vector y was passed when a 1d array was expected. Please change the shape of y to (n_samples, ), for example using ravel().\n",
            "  \"\"\"\n",
            "/usr/local/lib/python3.7/dist-packages/ipykernel_launcher.py:5: DataConversionWarning: A column-vector y was passed when a 1d array was expected. Please change the shape of y to (n_samples, ), for example using ravel().\n",
            "  \"\"\"\n"
          ]
        }
      ]
    },
    {
      "cell_type": "markdown",
      "metadata": {
        "id": "h104heToWvtJ"
      },
      "source": [
        "### Another Example:\n",
        "We are going to use a real clinical data set (Data1.csv). This data set contain 216 subjects each of which presented with 100 quantified values (clinical Proteomics). Out of all the subjects, 121 are diagnosed as ovarian cancer and 95 are healthy subjects. Therefore, it is binary classification and the class labels are set as -1 and +1."
      ]
    },
    {
      "cell_type": "code",
      "metadata": {
        "id": "teFmfuP1WvtK"
      },
      "source": [
        "data = pd.read_csv('/content/drive/My Drive/Data/Data1.csv', header=None) # Input data"
      ],
      "execution_count": null,
      "outputs": []
    },
    {
      "cell_type": "code",
      "metadata": {
        "id": "djYlupExWvtM"
      },
      "source": [
        "# Set the first 100 columns as input data\n",
        "x_ovarian = data.values[:, :100]\n",
        "\n",
        "# Set the last column as targets\n",
        "y_ovarian = data.values[:, 100]\n",
        "\n",
        "# spliting the data into train and test sets randomly.\n",
        "x_tr_ovar, x_test_ovar, y_tr_ovar, y_test_ovar = train_test_split(x_ovarian, y_ovarian, test_size = 0.2, random_state = 1)"
      ],
      "execution_count": null,
      "outputs": []
    },
    {
      "cell_type": "code",
      "metadata": {
        "id": "qcElRkuqWvtO",
        "colab": {
          "base_uri": "https://localhost:8080/"
        },
        "outputId": "cef18831-110e-4702-d3c4-e11da6c4f60c"
      },
      "source": [
        "k_val = [1,3,5,7,9,11,15,17]\n",
        "for k in k_val:\n",
        "    knn = KNeighborsClassifier(n_neighbors = k, metric='euclidean')\n",
        "    knn.fit(x_tr_ovar, y_tr_ovar)\n",
        "    y_pred_over = knn.predict(x_test_ovar)\n",
        "    performance = metrics.accuracy_score(y_test_ovar, y_pred_over)\n",
        "    print('Prediction performance of KNN with K of {} is {}'.format(k, performance))"
      ],
      "execution_count": null,
      "outputs": [
        {
          "output_type": "stream",
          "name": "stdout",
          "text": [
            "Prediction performance of KNN with K of 1 is 0.9090909090909091\n",
            "Prediction performance of KNN with K of 3 is 0.9318181818181818\n",
            "Prediction performance of KNN with K of 5 is 0.9318181818181818\n",
            "Prediction performance of KNN with K of 7 is 0.9318181818181818\n",
            "Prediction performance of KNN with K of 9 is 0.8636363636363636\n",
            "Prediction performance of KNN with K of 11 is 0.8863636363636364\n",
            "Prediction performance of KNN with K of 15 is 0.8636363636363636\n",
            "Prediction performance of KNN with K of 17 is 0.8636363636363636\n"
          ]
        }
      ]
    },
    {
      "cell_type": "code",
      "metadata": {
        "id": "Yk_JFFFZWvtQ"
      },
      "source": [
        "# TODO: How do you interprete the effect of K on the model performance?"
      ],
      "execution_count": null,
      "outputs": []
    }
  ]
}